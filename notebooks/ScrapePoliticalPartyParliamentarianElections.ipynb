{
 "cells": [
  {
   "cell_type": "markdown",
   "source": [
    "# Scrape political party parliamentarian elections 2022 ads\n",
    "\n",
    "Purpose of this document is to scrape political party ads from Slovenian parliamentarian elections 2022. These will be used to test correlations between political advertisements and EEG signals.\n",
    "\n",
    "This document also serves as documentation to show which political parties are included in the test."
   ],
   "metadata": {
    "collapsed": false
   }
  },
  {
   "cell_type": "markdown",
   "source": [
    "## Imports"
   ],
   "metadata": {
    "collapsed": false
   }
  },
  {
   "cell_type": "code",
   "execution_count": 1,
   "outputs": [],
   "source": [
    "import datetime\n",
    "import pandas as pd\n",
    "\n",
    "from lib.ad_scraper.FBAdLibraryPartyPageScraper import FBAdLibraryPartyPageScraper"
   ],
   "metadata": {
    "collapsed": false
   }
  },
  {
   "cell_type": "markdown",
   "source": [
    "# Helper functions"
   ],
   "metadata": {
    "collapsed": false
   }
  },
  {
   "cell_type": "markdown",
   "source": [
    "### Parliamentarian election data\n",
    "\n",
    "Helper function that filters advertisements that were not running in March and April 2022 in the time before the Slovenian parliamentarian elections 2022."
   ],
   "metadata": {
    "collapsed": false
   }
  },
  {
   "cell_type": "code",
   "execution_count": 2,
   "outputs": [],
   "source": [
    "def parliamentarian_election_data(data: pd.DataFrame):\n",
    "    data['ad_delivery_start_time'] = pd.to_datetime(data['ad_delivery_start_time'])\n",
    "    data['ad_delivery_end_time'] = pd.to_datetime(data['ad_delivery_start_time'])\n",
    "\n",
    "    start_date = datetime.datetime(2022, 3, 1)\n",
    "    end_date = datetime.datetime(2022, 4, 30)\n",
    "    mask_start_date = (data['ad_delivery_start_time'] > start_date) & (data['ad_delivery_start_time'] <= end_date)\n",
    "    mask_end_date = (data['ad_delivery_end_time'] > start_date) & (data['ad_delivery_end_time'] <= end_date)\n",
    "    return data.loc[mask_start_date | mask_end_date]"
   ],
   "metadata": {
    "collapsed": false
   }
  },
  {
   "cell_type": "markdown",
   "source": [
    "### Collect media files\n",
    "\n",
    "Helper function to collect media files of political advertisements of a given political party for Slovenian parliamentarian elections 2022."
   ],
   "metadata": {
    "collapsed": false
   }
  },
  {
   "cell_type": "code",
   "execution_count": 3,
   "outputs": [],
   "source": [
    "def collect_media_political_party(political_party_abbreviation: str):\n",
    "    df_party_metadata = pd.read_csv(f'../data/metadata/{political_party_abbreviation}.csv')\n",
    "    if len(set(df_party_metadata['page_id'])) > 1:\n",
    "        raise RuntimeError(\"More than 1 page for a political party.\")\n",
    "\n",
    "    df_party_metadata_filtered = parliamentarian_election_data(data=df_party_metadata)\n",
    "\n",
    "    scraper = FBAdLibraryPartyPageScraper(page_id=list(df_party_metadata['page_id'])[0],\n",
    "                                          valid_ids=list(df_party_metadata_filtered['ad_archive_id']))\n",
    "    scraper.scroll_to_bottom()\n",
    "    scraper.collect_media()\n",
    "    scraper.close()"
   ],
   "metadata": {
    "collapsed": false
   }
  },
  {
   "cell_type": "markdown",
   "source": [
    "## Political party scraping"
   ],
   "metadata": {
    "collapsed": false
   }
  },
  {
   "cell_type": "markdown",
   "source": [
    "### Gibanje Svoboda"
   ],
   "metadata": {
    "collapsed": false
   }
  },
  {
   "cell_type": "code",
   "execution_count": 4,
   "outputs": [
    {
     "name": "stderr",
     "output_type": "stream",
     "text": [
      "[WDM] - Downloading: 100%|██████████| 8.61M/8.61M [00:00<00:00, 44.2MB/s]\n"
     ]
    },
    {
     "ename": "KeyboardInterrupt",
     "evalue": "",
     "output_type": "error",
     "traceback": [
      "\u001B[0;31m---------------------------------------------------------------------------\u001B[0m",
      "\u001B[0;31mKeyboardInterrupt\u001B[0m                         Traceback (most recent call last)",
      "Cell \u001B[0;32mIn[4], line 1\u001B[0m\n\u001B[0;32m----> 1\u001B[0m \u001B[43mcollect_media_political_party\u001B[49m\u001B[43m(\u001B[49m\n\u001B[1;32m      2\u001B[0m \u001B[43m    \u001B[49m\u001B[43mpolitical_party_abbreviation\u001B[49m\u001B[38;5;241;43m=\u001B[39;49m\u001B[38;5;124;43m'\u001B[39;49m\u001B[38;5;124;43mGS\u001B[39;49m\u001B[38;5;124;43m'\u001B[39;49m\n\u001B[1;32m      3\u001B[0m \u001B[43m)\u001B[49m\n",
      "Cell \u001B[0;32mIn[3], line 8\u001B[0m, in \u001B[0;36mcollect_media_political_party\u001B[0;34m(political_party_abbreviation)\u001B[0m\n\u001B[1;32m      4\u001B[0m     \u001B[38;5;28;01mraise\u001B[39;00m \u001B[38;5;167;01mRuntimeError\u001B[39;00m(\u001B[38;5;124m\"\u001B[39m\u001B[38;5;124mMore than 1 page for a political party.\u001B[39m\u001B[38;5;124m\"\u001B[39m)\n\u001B[1;32m      6\u001B[0m df_party_metadata_filtered \u001B[38;5;241m=\u001B[39m parliamentarian_election_data(data\u001B[38;5;241m=\u001B[39mdf_party_metadata)\n\u001B[0;32m----> 8\u001B[0m scraper \u001B[38;5;241m=\u001B[39m \u001B[43mFBAdLibraryPartyPageScraper\u001B[49m\u001B[43m(\u001B[49m\u001B[43mpage_id\u001B[49m\u001B[38;5;241;43m=\u001B[39;49m\u001B[38;5;28;43mlist\u001B[39;49m\u001B[43m(\u001B[49m\u001B[43mdf_party_metadata\u001B[49m\u001B[43m[\u001B[49m\u001B[38;5;124;43m'\u001B[39;49m\u001B[38;5;124;43mpage_id\u001B[39;49m\u001B[38;5;124;43m'\u001B[39;49m\u001B[43m]\u001B[49m\u001B[43m)\u001B[49m\u001B[43m[\u001B[49m\u001B[38;5;241;43m0\u001B[39;49m\u001B[43m]\u001B[49m\u001B[43m,\u001B[49m\n\u001B[1;32m      9\u001B[0m \u001B[43m                                      \u001B[49m\u001B[43mvalid_ids\u001B[49m\u001B[38;5;241;43m=\u001B[39;49m\u001B[38;5;28;43mlist\u001B[39;49m\u001B[43m(\u001B[49m\u001B[43mdf_party_metadata_filtered\u001B[49m\u001B[43m[\u001B[49m\u001B[38;5;124;43m'\u001B[39;49m\u001B[38;5;124;43mad_archive_id\u001B[39;49m\u001B[38;5;124;43m'\u001B[39;49m\u001B[43m]\u001B[49m\u001B[43m)\u001B[49m\u001B[43m)\u001B[49m\n\u001B[1;32m     10\u001B[0m scraper\u001B[38;5;241m.\u001B[39mscroll_to_bottom()\n\u001B[1;32m     11\u001B[0m scraper\u001B[38;5;241m.\u001B[39mcollect_media()\n",
      "File \u001B[0;32m~/Documents/GitHub/AdvertisementWithUnicornBCI/lib/ad_scraper/FBAdLibraryPartyPageScraper.py:22\u001B[0m, in \u001B[0;36mFBAdLibraryPartyPageScraper.__init__\u001B[0;34m(self, page_id, valid_ids)\u001B[0m\n\u001B[1;32m     19\u001B[0m \u001B[38;5;28mself\u001B[39m\u001B[38;5;241m.\u001B[39mdriver\u001B[38;5;241m.\u001B[39mget(\n\u001B[1;32m     20\u001B[0m     \u001B[38;5;124mf\u001B[39m\u001B[38;5;124m'\u001B[39m\u001B[38;5;124mhttps://www.facebook.com/ads/library/?active_status=all&ad_type=political_and_issue_ads&country=SI&view_all_page_id=\u001B[39m\u001B[38;5;132;01m{\u001B[39;00m\u001B[38;5;28mself\u001B[39m\u001B[38;5;241m.\u001B[39mpage_id\u001B[38;5;132;01m}\u001B[39;00m\u001B[38;5;124m&sort_data[direction]=desc&sort_data[mode]=relevancy_monthly_grouped&search_type=page&media_type=all\u001B[39m\u001B[38;5;124m'\u001B[39m)\n\u001B[1;32m     21\u001B[0m \u001B[38;5;28mself\u001B[39m\u001B[38;5;241m.\u001B[39mdriver\u001B[38;5;241m.\u001B[39mimplicitly_wait(\u001B[38;5;241m0.2\u001B[39m)\n\u001B[0;32m---> 22\u001B[0m \u001B[43mtime\u001B[49m\u001B[38;5;241;43m.\u001B[39;49m\u001B[43msleep\u001B[49m\u001B[43m(\u001B[49m\u001B[43mrandom\u001B[49m\u001B[38;5;241;43m.\u001B[39;49m\u001B[43muniform\u001B[49m\u001B[43m(\u001B[49m\u001B[38;5;241;43m18\u001B[39;49m\u001B[43m,\u001B[49m\u001B[43m \u001B[49m\u001B[38;5;241;43m25\u001B[39;49m\u001B[43m)\u001B[49m\u001B[43m)\u001B[49m\n\u001B[1;32m     23\u001B[0m \u001B[38;5;28mself\u001B[39m\u001B[38;5;241m.\u001B[39mmedia_collection \u001B[38;5;241m=\u001B[39m []\n\u001B[1;32m     24\u001B[0m \u001B[38;5;28mself\u001B[39m\u001B[38;5;241m.\u001B[39mvalid_ids \u001B[38;5;241m=\u001B[39m valid_ids\n",
      "\u001B[0;31mKeyboardInterrupt\u001B[0m: "
     ]
    }
   ],
   "source": [
    "collect_media_political_party(\n",
    "    political_party_abbreviation='GS'\n",
    ")"
   ],
   "metadata": {
    "collapsed": false
   }
  }
 ],
 "metadata": {
  "kernelspec": {
   "display_name": "Python 3",
   "language": "python",
   "name": "python3"
  },
  "language_info": {
   "codemirror_mode": {
    "name": "ipython",
    "version": 2
   },
   "file_extension": ".py",
   "mimetype": "text/x-python",
   "name": "python",
   "nbconvert_exporter": "python",
   "pygments_lexer": "ipython2",
   "version": "2.7.6"
  }
 },
 "nbformat": 4,
 "nbformat_minor": 0
}
